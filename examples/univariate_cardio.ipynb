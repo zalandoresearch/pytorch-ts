{
 "cells": [
  {
   "cell_type": "markdown",
   "id": "189e4cf5",
   "metadata": {},
   "source": [
    "## Univariate ts example using exogenous variables:\n",
    "\n",
    "In this notebook we will show how to prepare data to be consumed by the trainer.\n",
    "Note that the main parts are: \n",
    "- a dictionary, which contains all relevant information\n",
    "necessary for training (like number of ts, prediction length and frequency of data)\n",
    "- the ListDataset, which is used to prepare the train and test datasets.\n",
    "\n",
    "Additionally we show how to return the different quantiles of the predictor for better transparency."
   ]
  },
  {
   "cell_type": "code",
   "execution_count": 1,
   "id": "fb734980",
   "metadata": {},
   "outputs": [
    {
     "name": "stderr",
     "output_type": "stream",
     "text": [
      "/Users/janrathfelder/opt/anaconda3/envs/py37/lib/python3.7/site-packages/gluonts/json.py:46: UserWarning: Using `json`-module for json-handling. Consider installing one of `orjson`, `ujson` to speed up serialization and deserialization.\n",
      "  \"Using `json`-module for json-handling. \"\n"
     ]
    }
   ],
   "source": [
    "import matplotlib.pyplot as plt\n",
    "import pandas as pd\n",
    "import numpy as np\n",
    "\n",
    "import torch\n",
    "from gluonts.dataset.common import ListDataset\n",
    "from gluonts.dataset.util import to_pandas\n",
    "\n",
    "from pts.model.deepar import DeepAREstimator\n",
    "from pts import Trainer\n",
    "from gluonts.evaluation.backtest import make_evaluation_predictions\n",
    "from gluonts.evaluation import Evaluator\n",
    "from gluonts import time_feature\n",
    "import json\n",
    "from itertools import islice\n",
    "from gluonts.dataset.field_names import FieldName"
   ]
  },
  {
   "cell_type": "code",
   "execution_count": 16,
   "id": "55a5ecfc",
   "metadata": {},
   "outputs": [
    {
     "data": {
      "text/plain": [
       "(139, 6)"
      ]
     },
     "execution_count": 16,
     "metadata": {},
     "output_type": "execute_result"
    }
   ],
   "source": [
    "url = \"https://archive.ics.uci.edu/ml/machine-learning-databases/00549/HortonGeneralHospital.csv\"\n",
    "df = pd.read_csv(url, index_col=0)\n",
    "df.shape"
   ]
  },
  {
   "cell_type": "code",
   "execution_count": 54,
   "id": "76f61509",
   "metadata": {},
   "outputs": [],
   "source": [
    "# normalize input data: \n",
    "# here this step might not be necessary,\n",
    "# but in general normalizing input data\n",
    "# when working with neural nets is important:\n",
    "\n",
    "input_cols = ['Cardio', 'Resp', 'Hypo']\n",
    "\n",
    "norm_df = df[input_cols].apply(lambda x: (x - np.min(x)) / (np.max(x) - np.min(x)))\n",
    "final_df = pd.concat([df['Adm'], norm_df], ignore_index=False, sort=False, axis=1)"
   ]
  },
  {
   "cell_type": "code",
   "execution_count": 136,
   "id": "ec7cf8a4",
   "metadata": {},
   "outputs": [
    {
     "data": {
      "text/html": [
       "<div>\n",
       "<style scoped>\n",
       "    .dataframe tbody tr th:only-of-type {\n",
       "        vertical-align: middle;\n",
       "    }\n",
       "\n",
       "    .dataframe tbody tr th {\n",
       "        vertical-align: top;\n",
       "    }\n",
       "\n",
       "    .dataframe thead th {\n",
       "        text-align: right;\n",
       "    }\n",
       "</style>\n",
       "<table border=\"1\" class=\"dataframe\">\n",
       "  <thead>\n",
       "    <tr style=\"text-align: right;\">\n",
       "      <th></th>\n",
       "      <th>Adm</th>\n",
       "      <th>Cardio</th>\n",
       "      <th>Resp</th>\n",
       "      <th>Hypo</th>\n",
       "    </tr>\n",
       "  </thead>\n",
       "  <tbody>\n",
       "    <tr>\n",
       "      <th>count</th>\n",
       "      <td>139.000000</td>\n",
       "      <td>139.000000</td>\n",
       "      <td>139.000000</td>\n",
       "      <td>139.000000</td>\n",
       "    </tr>\n",
       "    <tr>\n",
       "      <th>mean</th>\n",
       "      <td>534.985612</td>\n",
       "      <td>0.287770</td>\n",
       "      <td>0.062950</td>\n",
       "      <td>0.086331</td>\n",
       "    </tr>\n",
       "    <tr>\n",
       "      <th>std</th>\n",
       "      <td>73.129524</td>\n",
       "      <td>0.284323</td>\n",
       "      <td>0.141465</td>\n",
       "      <td>0.281868</td>\n",
       "    </tr>\n",
       "    <tr>\n",
       "      <th>min</th>\n",
       "      <td>373.000000</td>\n",
       "      <td>0.000000</td>\n",
       "      <td>0.000000</td>\n",
       "      <td>0.000000</td>\n",
       "    </tr>\n",
       "    <tr>\n",
       "      <th>25%</th>\n",
       "      <td>491.500000</td>\n",
       "      <td>0.000000</td>\n",
       "      <td>0.000000</td>\n",
       "      <td>0.000000</td>\n",
       "    </tr>\n",
       "    <tr>\n",
       "      <th>50%</th>\n",
       "      <td>539.000000</td>\n",
       "      <td>0.333333</td>\n",
       "      <td>0.000000</td>\n",
       "      <td>0.000000</td>\n",
       "    </tr>\n",
       "    <tr>\n",
       "      <th>75%</th>\n",
       "      <td>579.000000</td>\n",
       "      <td>0.333333</td>\n",
       "      <td>0.000000</td>\n",
       "      <td>0.000000</td>\n",
       "    </tr>\n",
       "    <tr>\n",
       "      <th>max</th>\n",
       "      <td>724.000000</td>\n",
       "      <td>1.000000</td>\n",
       "      <td>1.000000</td>\n",
       "      <td>1.000000</td>\n",
       "    </tr>\n",
       "  </tbody>\n",
       "</table>\n",
       "</div>"
      ],
      "text/plain": [
       "              Adm      Cardio        Resp        Hypo\n",
       "count  139.000000  139.000000  139.000000  139.000000\n",
       "mean   534.985612    0.287770    0.062950    0.086331\n",
       "std     73.129524    0.284323    0.141465    0.281868\n",
       "min    373.000000    0.000000    0.000000    0.000000\n",
       "25%    491.500000    0.000000    0.000000    0.000000\n",
       "50%    539.000000    0.333333    0.000000    0.000000\n",
       "75%    579.000000    0.333333    0.000000    0.000000\n",
       "max    724.000000    1.000000    1.000000    1.000000"
      ]
     },
     "execution_count": 136,
     "metadata": {},
     "output_type": "execute_result"
    }
   ],
   "source": [
    "# check data:\n",
    "\n",
    "final_df.describe()"
   ]
  },
  {
   "cell_type": "code",
   "execution_count": 118,
   "id": "03f20e63",
   "metadata": {},
   "outputs": [
    {
     "name": "stderr",
     "output_type": "stream",
     "text": [
      "/Users/janrathfelder/opt/anaconda3/envs/py37/lib/python3.7/site-packages/ipykernel_launcher.py:10: FutureWarning: The 'freq' argument in Timestamp is deprecated and will be removed in a future version.\n",
      "  # Remove the CWD from sys.path while we load stuff.\n"
     ]
    }
   ],
   "source": [
    "# define the parameters of the dataset:\n",
    "\n",
    "custom_ds_metadata = {\n",
    "    'num_series': 1, # because we have only one target ts\n",
    "    'num_steps': final_df.shape[0], # defines the length of the ts\n",
    "    'prediction_length': 24, # number of steps we want to predict\n",
    "    'freq': 'M', # data is given per month --> M\n",
    "    'start': [\n",
    "        pd.Timestamp('1999-11-01', freq='M')\n",
    "        for _ in range(final_df.shape[0])\n",
    "    ]\n",
    "}"
   ]
  },
  {
   "cell_type": "code",
   "execution_count": 119,
   "id": "a22b1591",
   "metadata": {},
   "outputs": [],
   "source": [
    "# define target and features to be used:\n",
    "target = np.array([df['Adm']])\n",
    "\n",
    "feat_dynamic_real = np.array([df['Hypo'],df['Cardio'],df['Hypo']])"
   ]
  },
  {
   "cell_type": "code",
   "execution_count": 120,
   "id": "39cac014",
   "metadata": {},
   "outputs": [],
   "source": [
    "# Define fields used\n",
    "# Here we define a dynamic_real value on top of the target\n",
    "train_ds = ListDataset(\n",
    "    [\n",
    "        {\n",
    "            FieldName.TARGET: target,\n",
    "            FieldName.START: start,\n",
    "            FieldName.FEAT_DYNAMIC_REAL: [fdr]\n",
    "            #FieldName.FEAT_STATIC_CAT: [fsc]\n",
    "        }\n",
    "        for (target, start, fdr) in zip(\n",
    "            target[:, :-custom_ds_metadata['prediction_length']],\n",
    "            custom_ds_metadata['start'],\n",
    "            feat_dynamic_real[:, :-custom_ds_metadata['prediction_length']]\n",
    "            #feat_static_cat\n",
    "        )\n",
    "    ],\n",
    "    freq=custom_ds_metadata['freq']\n",
    ")\n",
    "\n",
    "# test\n",
    "test_ds = ListDataset(\n",
    "    [\n",
    "        {\n",
    "            FieldName.TARGET: target,\n",
    "            FieldName.START: start,\n",
    "            FieldName.FEAT_DYNAMIC_REAL: [fdr]\n",
    "            #FieldName.FEAT_STATIC_CAT: [fsc]\n",
    "        }\n",
    "        for (target, start, fdr) in zip(\n",
    "            target,\n",
    "            custom_ds_metadata['start'],\n",
    "            feat_dynamic_real\n",
    "            #feat_static_cat\n",
    "            )\n",
    "    ],\n",
    "    freq=custom_ds_metadata['freq']\n",
    ")"
   ]
  },
  {
   "cell_type": "code",
   "execution_count": 121,
   "id": "78c9f78b",
   "metadata": {},
   "outputs": [
    {
     "name": "stdout",
     "output_type": "stream",
     "text": [
      "dict_keys(['target', 'start', 'feat_dynamic_real', 'source']) dict_keys(['target', 'start', 'feat_dynamic_real', 'source'])\n"
     ]
    },
    {
     "name": "stderr",
     "output_type": "stream",
     "text": [
      "/Users/janrathfelder/opt/anaconda3/envs/py37/lib/python3.7/site-packages/gluonts/dataset/common.py:323: FutureWarning: The 'freq' argument in Timestamp is deprecated and will be removed in a future version.\n",
      "  timestamp = pd.Timestamp(string, freq=freq)\n",
      "/Users/janrathfelder/opt/anaconda3/envs/py37/lib/python3.7/site-packages/gluonts/dataset/common.py:326: FutureWarning: Timestamp.freq is deprecated and will be removed in a future version\n",
      "  if isinstance(timestamp.freq, Tick):\n",
      "/Users/janrathfelder/opt/anaconda3/envs/py37/lib/python3.7/site-packages/gluonts/dataset/common.py:337: FutureWarning: Timestamp.freq is deprecated and will be removed in a future version\n",
      "  return timestamp.freq.rollforward(timestamp)\n"
     ]
    }
   ],
   "source": [
    "# Returning train and test dict:\n",
    "\n",
    "train_entry = next(iter(train_ds))\n",
    "test_entry = next(iter(test_ds))\n",
    "\n",
    "print(test_entry.keys(), train_entry.keys())"
   ]
  },
  {
   "cell_type": "code",
   "execution_count": 122,
   "id": "996bbe9b",
   "metadata": {},
   "outputs": [
    {
     "data": {
      "text/plain": [
       "{'target': array([413., 443., 378., 385., 388., 406., 409., 425., 453., 411., 407.,\n",
       "        417., 422., 426., 427., 410., 450., 449., 438., 446., 460., 437.,\n",
       "        475., 464., 467., 499., 459., 461., 488., 486., 515., 457., 558.,\n",
       "        519., 509., 519., 544., 532., 509., 532., 598., 495., 543., 555.,\n",
       "        553., 532., 579., 633., 622., 644., 624., 553., 628., 671., 713.,\n",
       "        684., 724., 655., 714., 664., 589., 567., 617., 542., 565., 592.,\n",
       "        635., 567., 598., 514., 551., 613., 499., 537., 533., 490., 567.,\n",
       "        538., 506., 529., 548., 564., 522., 537., 559., 579., 560., 493.,\n",
       "        570., 519., 512., 539., 556., 532., 539., 593., 551., 559., 480.,\n",
       "        474., 523., 510., 503., 498., 532., 530., 550., 561., 550., 637.,\n",
       "        603., 520., 624., 596., 656.], dtype=float32),\n",
       " 'start': Timestamp('1999-11-30 00:00:00', freq='M'),\n",
       " 'feat_dynamic_real': array([[0., 0., 0., 0., 0., 0., 0., 0., 0., 0., 1., 0., 0., 0., 0., 0.,\n",
       "         0., 1., 0., 0., 1., 1., 0., 0., 0., 0., 0., 0., 0., 0., 0., 0.,\n",
       "         0., 0., 0., 0., 0., 1., 0., 0., 1., 0., 0., 0., 0., 0., 0., 0.,\n",
       "         0., 0., 0., 1., 0., 0., 0., 0., 0., 0., 1., 0., 0., 0., 0., 0.,\n",
       "         0., 0., 0., 0., 0., 0., 0., 0., 0., 0., 0., 0., 0., 0., 0., 0.,\n",
       "         0., 1., 0., 0., 0., 0., 0., 0., 0., 0., 0., 0., 0., 0., 0., 0.,\n",
       "         0., 0., 0., 0., 0., 0., 0., 0., 0., 0., 0., 0., 0., 0., 1., 0.,\n",
       "         1., 0., 0.]], dtype=float32),\n",
       " 'source': SourceContext(source='list_data', row=0)}"
      ]
     },
     "execution_count": 122,
     "metadata": {},
     "output_type": "execute_result"
    }
   ],
   "source": [
    "# look at the first train entry:\n",
    "train_entry"
   ]
  },
  {
   "cell_type": "code",
   "execution_count": 129,
   "id": "115156c2",
   "metadata": {},
   "outputs": [
    {
     "data": {
      "application/vnd.jupyter.widget-view+json": {
       "model_id": "93925a8445014cb09dd5a6fb168893c5",
       "version_major": 2,
       "version_minor": 0
      },
      "text/plain": [
       "  0%|          | 0/127 [00:00<?, ?it/s]"
      ]
     },
     "metadata": {},
     "output_type": "display_data"
    },
    {
     "name": "stderr",
     "output_type": "stream",
     "text": [
      "/Users/janrathfelder/opt/anaconda3/envs/py37/lib/python3.7/site-packages/gluonts/transform/split.py:36: FutureWarning: Timestamp.freq is deprecated and will be removed in a future version\n",
      "  return _shift_timestamp_helper(ts, ts.freq, offset)\n",
      "/Users/janrathfelder/opt/anaconda3/envs/py37/lib/python3.7/site-packages/gluonts/transform/feature.py:352: FutureWarning: Timestamp.freq is deprecated and will be removed in a future version\n",
      "  self._min_time_point, self._max_time_point, freq=start.freq\n"
     ]
    },
    {
     "data": {
      "application/vnd.jupyter.widget-view+json": {
       "model_id": "6231fc56ff7c4be5a0f92eef266b8b8a",
       "version_major": 2,
       "version_minor": 0
      },
      "text/plain": [
       "  0%|          | 0/127 [00:00<?, ?it/s]"
      ]
     },
     "metadata": {},
     "output_type": "display_data"
    },
    {
     "data": {
      "application/vnd.jupyter.widget-view+json": {
       "model_id": "51a1016abfc94aec8527e82e367dea9e",
       "version_major": 2,
       "version_minor": 0
      },
      "text/plain": [
       "  0%|          | 0/127 [00:00<?, ?it/s]"
      ]
     },
     "metadata": {},
     "output_type": "display_data"
    },
    {
     "data": {
      "application/vnd.jupyter.widget-view+json": {
       "model_id": "5aace7f28da44c6ca84c2efad0b2f12b",
       "version_major": 2,
       "version_minor": 0
      },
      "text/plain": [
       "  0%|          | 0/127 [00:00<?, ?it/s]"
      ]
     },
     "metadata": {},
     "output_type": "display_data"
    },
    {
     "data": {
      "application/vnd.jupyter.widget-view+json": {
       "model_id": "5833c67200ee4d50bf36174da59bece1",
       "version_major": 2,
       "version_minor": 0
      },
      "text/plain": [
       "  0%|          | 0/127 [00:00<?, ?it/s]"
      ]
     },
     "metadata": {},
     "output_type": "display_data"
    }
   ],
   "source": [
    "device = torch.device(\"cuda\" if torch.cuda.is_available() else \"cpu\")\n",
    "\n",
    "estimator = DeepAREstimator(freq=custom_ds_metadata['freq'],\n",
    "                            prediction_length=custom_ds_metadata['prediction_length'],\n",
    "                            input_size=22,\n",
    "                            num_layers=2,\n",
    "                            num_cells=40,\n",
    "                            use_feat_dynamic_real=True,\n",
    "                            context_length=2*custom_ds_metadata['prediction_length'],\n",
    "                            trainer=Trainer(epochs=5,\n",
    "                                            learning_rate=1e-3,\n",
    "                                            num_batches_per_epoch=128,\n",
    "                                            batch_size=64,\n",
    "                                            device=device))\n",
    "\n",
    "predictor = estimator.train(training_data=train_ds, \n",
    "                            num_workers=0\n",
    "                           )"
   ]
  },
  {
   "cell_type": "code",
   "execution_count": 130,
   "id": "82378044",
   "metadata": {},
   "outputs": [
    {
     "name": "stdout",
     "output_type": "stream",
     "text": [
      "['feat_static_cat', 'feat_static_real', 'past_time_feat', 'past_target', 'past_observed_values', 'future_time_feat']\n",
      "\n",
      "[gluonts.time_feature._base.MonthOfYear()]\n",
      "\n",
      "M\n",
      "\n",
      "True\n"
     ]
    }
   ],
   "source": [
    "# return model input params:\n",
    "\n",
    "print(predictor.input_names)\n",
    "print()\n",
    "print(estimator.time_features)\n",
    "print()\n",
    "print(predictor.freq)\n",
    "print()\n",
    "print(estimator.use_feat_dynamic_real)"
   ]
  },
  {
   "cell_type": "code",
   "execution_count": 131,
   "id": "0e447b1e",
   "metadata": {},
   "outputs": [
    {
     "name": "stderr",
     "output_type": "stream",
     "text": [
      "Running evaluation: 100%|█████████████████████████| 1/1 [00:00<00:00, 19.97it/s]/Users/janrathfelder/opt/anaconda3/envs/py37/lib/python3.7/site-packages/gluonts/evaluation/_base.py:305: FutureWarning: Timestamp.freq is deprecated and will be removed in a future version\n",
      "  date_before_forecast = forecast.index[0] - forecast.index[0].freq\n",
      "\n"
     ]
    }
   ],
   "source": [
    "# Return forcast and compare with true values:\n",
    "\n",
    "forecast_it, ts_it = make_evaluation_predictions(\n",
    "    dataset=test_ds,  # test dataset\n",
    "    predictor=predictor,  # predictor\n",
    "    num_samples=100,  # number of sample paths we want for evaluation\n",
    ")\n",
    "\n",
    "forecasts = list(forecast_it)\n",
    "tss = list(ts_it)\n",
    "\n",
    "evaluator = Evaluator()\n",
    "agg_metrics, item_metrics = evaluator(iter(tss), iter(forecasts), num_series=len(test_ds))"
   ]
  },
  {
   "cell_type": "code",
   "execution_count": 132,
   "id": "b3a59949",
   "metadata": {},
   "outputs": [
    {
     "data": {
      "image/png": "[encoded data removed]",
      "text/plain": [
       "<Figure size 720x504 with 1 Axes>"
      ]
     },
     "metadata": {
      "needs_background": "light"
     },
     "output_type": "display_data"
    }
   ],
   "source": [
    "def plot_prob_forecasts(ts_entry, forecast_entry):\n",
    "    plot_length = 150\n",
    "    prediction_intervals = (10.0, 90.0)\n",
    "    legend = [\"observations\", \"median prediction\"] + [f\"{k}% prediction interval\" for k in prediction_intervals][::-1]\n",
    "\n",
    "    fig, ax = plt.subplots(1, 1, figsize=(10, 7))\n",
    "    ts_entry[-plot_length:].plot(ax=ax)  # plot the time series\n",
    "    forecast_entry.plot(prediction_intervals=prediction_intervals, color='g')\n",
    "    plt.grid(which=\"both\")\n",
    "    plt.legend(legend, loc=\"upper left\")\n",
    "    plt.show()\n",
    "\n",
    "forecast_entry = forecasts[0]\n",
    "ts_entry = tss[0]\n",
    "plot_prob_forecasts(ts_entry, forecast_entry) "
   ]
  },
  {
   "cell_type": "code",
   "execution_count": 133,
   "id": "219ac1d6",
   "metadata": {},
   "outputs": [
    {
     "name": "stdout",
     "output_type": "stream",
     "text": [
      "{\n",
      "    \"MSE\": 3994.0787760416665,\n",
      "    \"abs_error\": 1298.376220703125,\n",
      "    \"abs_target_sum\": 13358.0,\n",
      "    \"abs_target_mean\": 556.5833333333334,\n",
      "    \"seasonal_error\": 56.38834951456311,\n",
      "    \"MASE\": 0.959400473000042,\n",
      "    \"MAPE\": 0.09766241908073425,\n",
      "    \"sMAPE\": 0.10142195224761963,\n",
      "    \"MSIS\": 17.495262405213353,\n",
      "    \"QuantileLoss[0.1]\": 487.13342895507816,\n",
      "    \"Coverage[0.1]\": 0.125,\n",
      "    \"QuantileLoss[0.2]\": 750.7552124023439,\n",
      "    \"Coverage[0.2]\": 0.16666666666666666,\n",
      "    \"QuantileLoss[0.3]\": 966.4718872070312,\n",
      "    \"Coverage[0.3]\": 0.16666666666666666,\n",
      "    \"QuantileLoss[0.4]\": 1147.3893310546875,\n",
      "    \"Coverage[0.4]\": 0.16666666666666666,\n",
      "    \"QuantileLoss[0.5]\": 1298.3761596679688,\n",
      "    \"Coverage[0.5]\": 0.20833333333333334,\n",
      "    \"QuantileLoss[0.6]\": 1425.0341064453123,\n",
      "    \"Coverage[0.6]\": 0.20833333333333334,\n",
      "    \"QuantileLoss[0.7]\": 1513.4827270507812,\n",
      "    \"Coverage[0.7]\": 0.20833333333333334,\n",
      "    \"QuantileLoss[0.8]\": 1509.951892089844,\n",
      "    \"Coverage[0.8]\": 0.20833333333333334,\n",
      "    \"QuantileLoss[0.9]\": 1392.2291564941406,\n",
      "    \"Coverage[0.9]\": 0.25,\n",
      "    \"RMSE\": 63.1987244811291,\n",
      "    \"NRMSE\": 0.11354764093031129,\n",
      "    \"ND\": 0.09719839951363415,\n",
      "    \"wQuantileLoss[0.1]\": 0.036467542218526584,\n",
      "    \"wQuantileLoss[0.2]\": 0.05620266599807935,\n",
      "    \"wQuantileLoss[0.3]\": 0.07235154118932709,\n",
      "    \"wQuantileLoss[0.4]\": 0.08589529353605986,\n",
      "    \"wQuantileLoss[0.5]\": 0.09719839494445043,\n",
      "    \"wQuantileLoss[0.6]\": 0.10668019961411232,\n",
      "    \"wQuantileLoss[0.7]\": 0.11330159657514458,\n",
      "    \"wQuantileLoss[0.8]\": 0.11303727295177751,\n",
      "    \"wQuantileLoss[0.9]\": 0.10422437164950896,\n",
      "    \"mean_absolute_QuantileLoss\": 1165.6471001519099,\n",
      "    \"mean_wQuantileLoss\": 0.08726209763077629,\n",
      "    \"MAE_Coverage\": 0.3157407407407407,\n",
      "    \"OWA\": NaN\n",
      "}\n"
     ]
    }
   ],
   "source": [
    "# Print errors:\n",
    "\n",
    "print(json.dumps(agg_metrics, indent=4))"
   ]
  },
  {
   "cell_type": "code",
   "execution_count": 134,
   "id": "529e7bd9",
   "metadata": {},
   "outputs": [
    {
     "name": "stdout",
     "output_type": "stream",
     "text": [
      "Number of sample paths: 100\n",
      "Dimension of samples: (100, 24)\n",
      "Start date of the forecast window: 2009-06-30 00:00:00\n",
      "Frequency of the time series: M\n"
     ]
    }
   ],
   "source": [
    "# Return predictions for further inspection:\n",
    "\n",
    "print(f\"Number of sample paths: {forecast_entry.num_samples}\")\n",
    "print(f\"Dimension of samples: {forecast_entry.samples.shape}\")\n",
    "print(f\"Start date of the forecast window: {forecast_entry.start_date}\")\n",
    "print(f\"Frequency of the time series: {forecast_entry.freq}\")"
   ]
  },
  {
   "cell_type": "code",
   "execution_count": 135,
   "id": "307bc6bb",
   "metadata": {},
   "outputs": [
    {
     "name": "stdout",
     "output_type": "stream",
     "text": [
      "Mean of the future window:\n",
      " [572.47217 584.4465  554.2723  526.8707  522.4857  510.79822 511.74\n",
      " 513.4334  464.51523 529.26624 494.41415 490.89938 489.96155 547.28674\n",
      " 497.0909  496.01175 542.3618  535.3112  532.4699  505.83813 455.85953\n",
      " 524.52515 484.00708 480.66406]\n",
      "0.5-quantile (median) of the future window:\n",
      " [572.87604 585.9953  554.4788  527.08167 519.5565  507.93723 511.65347\n",
      " 514.7348  464.98325 529.27716 493.16312 492.81738 491.41156 546.4128\n",
      " 496.33926 496.81662 544.03534 534.3862  535.2574  506.3589  458.91696\n",
      " 524.4264  486.52185 481.27994]\n",
      "0.1-quantile of the future window:\n",
      " [560.2303  569.568   532.8864  508.41263 494.88892 477.15173 481.62463\n",
      " 488.07156 441.09137 506.9778  473.97397 468.96722 474.69998 534.3367\n",
      " 486.80487 480.10223 527.9691  519.47363 507.9938  478.56488 426.71765\n",
      " 504.35995 463.4244  461.99734]\n",
      "0.9-quantile of the future window:\n",
      " [581.36975 595.5836  576.462   552.0586  558.6715  542.5192  538.0657\n",
      " 538.0107  485.17563 552.39874 515.6055  511.87323 501.68372 561.0589\n",
      " 511.87848 508.31732 557.9748  554.9832  553.871   528.7566  478.72488\n",
      " 543.64685 505.4399  499.71936]\n"
     ]
    }
   ],
   "source": [
    "print(f\"Mean of the future window:\\n {forecast_entry.mean}\")\n",
    "print(f\"0.5-quantile (median) of the future window:\\n {forecast_entry.quantile(0.5)}\")\n",
    "print(f\"0.1-quantile of the future window:\\n {forecast_entry.quantile(0.1)}\")\n",
    "print(f\"0.9-quantile of the future window:\\n {forecast_entry.quantile(0.9)}\")"
   ]
  }
 ],
 "metadata": {
  "kernelspec": {
   "display_name": "Python 3 (ipykernel)",
   "language": "python",
   "name": "python3"
  },
  "language_info": {
   "codemirror_mode": {
    "name": "ipython",
    "version": 3
   },
   "file_extension": ".py",
   "mimetype": "text/x-python",
   "name": "python",
   "nbconvert_exporter": "python",
   "pygments_lexer": "ipython3",
   "version": "3.7.11"
  }
 },
 "nbformat": 4,
 "nbformat_minor": 5
}
