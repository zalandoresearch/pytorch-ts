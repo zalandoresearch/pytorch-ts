{
 "cells": [
  {
   "cell_type": "code",
   "execution_count": 1,
   "id": "db11790d",
   "metadata": {},
   "outputs": [],
   "source": [
    "import numpy as np\n",
    "import json\n",
    "import matplotlib.pyplot as plt\n",
    "\n",
    "import torch\n",
    "\n",
    "from gluonts.dataset.artificial import recipe as rcp\n",
    "from gluonts.dataset.artificial import RecipeDataset\n",
    "from gluonts.dataset.common import ListDataset, MetaData\n",
    "from gluonts.evaluation import make_evaluation_predictions, Evaluator\n",
    "\n",
    "from pts.model.n_beats import NBEATSEstimator\n",
    "from pts.model.n_beats.n_beats_X_estimator import NbeatsXEstimator\n",
    "from pts import Trainer"
   ]
  },
  {
   "cell_type": "code",
   "execution_count": 2,
   "id": "7df1c4b8",
   "metadata": {},
   "outputs": [],
   "source": [
    "NUM_EPOCHS = 30\n",
    "NUM_BATCHES_PER_EPOCH = 16\n",
    "NUM_SAMPLES = 10\n",
    "BATCH_SIZE = 32 * 2\n",
    "LEARNING_RATE = 1e-4\n",
    "\n",
    "\n",
    "TIME_SERIE_LENGTH = 4 * 12 \n",
    "PREDICTION_LENGTH = 4 \n",
    "NUMBER_OF_TIME_SERIES = NUM_BATCHES_PER_EPOCH * BATCH_SIZE \n",
    "\n",
    "META_DATA = MetaData(freq=\"W\", prediction_length=PREDICTION_LENGTH)"
   ]
  },
  {
   "cell_type": "code",
   "execution_count": 3,
   "id": "8e329613",
   "metadata": {},
   "outputs": [
    {
     "data": {
      "image/png": "[encoded data removed]",
      "text/plain": [
       "<Figure size 432x288 with 1 Axes>"
      ]
     },
     "metadata": {
      "needs_background": "light"
     },
     "output_type": "display_data"
    },
    {
     "data": {
      "image/png": "[encoded data removed]",
      "text/plain": [
       "<Figure size 432x288 with 1 Axes>"
      ]
     },
     "metadata": {
      "needs_background": "light"
     },
     "output_type": "display_data"
    }
   ],
   "source": [
    "class SimpleDiscount(rcp.Lifted):\n",
    "    def __call__(self, x, length, *args, **kwargs):\n",
    "        return np.random.uniform(0, 0.7, size=length)  \n",
    "\n",
    "class SimpleTarget(rcp.Lifted):\n",
    "\n",
    "    def __call__(self, x, length, *args, **kwargs):\n",
    "        trend = np.arange(length)  \n",
    "        season = np.asarray([np.cos(2 * np.pi * i * 1/4) for i in range(length)])\n",
    "        return 0.2 * trend + .3 * season\n",
    "\n",
    "    \n",
    "class SimpleElasticTarget(rcp.Lifted):\n",
    "\n",
    "    def __call__(self, x, length, *args, **kwargs):\n",
    "        trend = np.arange(length)  \n",
    "        season = np.asarray([np.cos(2 * np.pi * i * 1/4) for i in range(length)])\n",
    "        return 0.2 * trend + .3 * season + 2. * x\n",
    "    \n",
    "discounts = SimpleDiscount()(x=None, length=TIME_SERIE_LENGTH)  \n",
    "    \n",
    "plt.figure()\n",
    "plt.plot(SimpleTarget()(x=None, length=TIME_SERIE_LENGTH))\n",
    "plt.show()\n",
    "\n",
    "plt.figure()\n",
    "plt.plot(SimpleElasticTarget()(x=discounts, length=TIME_SERIE_LENGTH))\n",
    "plt.show()\n"
   ]
  },
  {
   "cell_type": "code",
   "execution_count": 4,
   "id": "2610ec01",
   "metadata": {},
   "outputs": [],
   "source": [
    "list_for_dataset = []\n",
    "for _ in range(NUMBER_OF_TIME_SERIES):\n",
    "    discounts = SimpleDiscount()(x=None, length=TIME_SERIE_LENGTH)\n",
    "    sales = SimpleTarget()(x=None, length=TIME_SERIE_LENGTH)  \n",
    "    list_for_dataset.append({\n",
    "        \"feat_dynamic_real\": [discounts], \n",
    "        \"target\": sales, \n",
    "        \"start\": \"2019-01-07 00:00\"}\n",
    "    )\n",
    "\n",
    "simple_dataset = ListDataset(list_for_dataset, freq=META_DATA.freq)"
   ]
  },
  {
   "cell_type": "code",
   "execution_count": 5,
   "id": "dbc40a58",
   "metadata": {},
   "outputs": [],
   "source": [
    "list_for_dataset = []\n",
    "for _ in range(NUMBER_OF_TIME_SERIES):\n",
    "    discounts = SimpleDiscount()(x=None, length=TIME_SERIE_LENGTH)\n",
    "    sales = SimpleElasticTarget()(x=discounts, length=TIME_SERIE_LENGTH)\n",
    "    \n",
    "    list_for_dataset.append({\n",
    "        \"feat_dynamic_real\": [discounts], \n",
    "        \"target\": sales, \n",
    "        \"start\": \"2019-01-07 00:00\"}\n",
    "    )\n",
    "\n",
    "elastic_dataset = ListDataset(list_for_dataset, freq=META_DATA.freq)"
   ]
  },
  {
   "cell_type": "code",
   "execution_count": 6,
   "id": "30c95381",
   "metadata": {},
   "outputs": [],
   "source": [
    "def train_nbeats(estimator, dataset):\n",
    "    predictor = estimator.train(dataset)\n",
    "    forecast_it, ts_it = make_evaluation_predictions(\n",
    "        dataset=dataset,  # test dataset\n",
    "        predictor=predictor,  # predictor\n",
    "        num_samples=NUM_SAMPLES,  # number of sample paths we want for evaluation\n",
    "    )\n",
    "    forecasts = list(forecast_it)\n",
    "    tss = list(ts_it)\n",
    "    evaluator = Evaluator()\n",
    "    agg_metrics, item_metrics = evaluator(iter(tss), iter(forecasts), num_series=len(dataset))\n",
    "    return agg_metrics[\"NRMSE\"]\n"
   ]
  },
  {
   "cell_type": "code",
   "execution_count": 7,
   "id": "25c275fe",
   "metadata": {},
   "outputs": [],
   "source": [
    "nbeats_estimator = NBEATSEstimator(\n",
    "    freq=META_DATA.freq,\n",
    "    prediction_length=META_DATA.prediction_length,\n",
    "    context_length=META_DATA.prediction_length * 3,\n",
    "    trainer=Trainer(device=torch.device(\"cuda\" if torch.cuda.is_available() else \"cpu\"),\n",
    "                    epochs=NUM_EPOCHS,\n",
    "                    learning_rate=LEARNING_RATE,\n",
    "                    num_batches_per_epoch=NUM_BATCHES_PER_EPOCH,\n",
    "                    batch_size=BATCH_SIZE,\n",
    "                    ),\n",
    "    num_stacks=30,\n",
    "    num_blocks=[1],\n",
    "    num_block_layers=[4],\n",
    "    stack_types=[\"G\"],\n",
    "    widths=[512],\n",
    "    sharing=[False],\n",
    "    expansion_coefficient_lengths=[32]\n",
    ")"
   ]
  },
  {
   "cell_type": "code",
   "execution_count": 8,
   "id": "227fda71",
   "metadata": {},
   "outputs": [],
   "source": [
    "nbeats_X_estimator = NbeatsXEstimator(\n",
    "    freq=META_DATA.freq,\n",
    "    prediction_length=META_DATA.prediction_length,\n",
    "    context_length=META_DATA.prediction_length * 3,\n",
    "    trainer=Trainer(device=torch.device(\"cuda\" if torch.cuda.is_available() else \"cpu\"),\n",
    "                    epochs=NUM_EPOCHS,\n",
    "                    learning_rate=LEARNING_RATE,\n",
    "                    num_batches_per_epoch=NUM_BATCHES_PER_EPOCH,\n",
    "                    batch_size=BATCH_SIZE,\n",
    "                    ),\n",
    "    num_stacks=30,\n",
    "    num_blocks=[1],\n",
    "    num_block_layers=[4],\n",
    "    stack_types=[\"G\"],\n",
    "    widths=[512],\n",
    "    sharing=[False],\n",
    "    expansion_coefficient_lengths=[32],\n",
    "    num_feat_dynamic_real=4,\n",
    "    use_feat_dynamic_real=True,\n",
    ")"
   ]
  },
  {
   "cell_type": "markdown",
   "id": "bb125a0a",
   "metadata": {},
   "source": [
    "## Nbeats X"
   ]
  },
  {
   "cell_type": "code",
   "execution_count": 9,
   "id": "a5b1d03b",
   "metadata": {
    "scrolled": true
   },
   "outputs": [
    {
     "data": {
      "application/vnd.jupyter.widget-view+json": {
       "model_id": "1151239843c946e78d897da9120e1385",
       "version_major": 2,
       "version_minor": 0
      },
      "text/plain": [
       "  0%|          | 0/15 [00:00<?, ?it/s]"
      ]
     },
     "metadata": {},
     "output_type": "display_data"
    },
    {
     "name": "stderr",
     "output_type": "stream",
     "text": [
      "/home/kashif/.env/pytorch/lib/python3.8/site-packages/gluonts/dataset/common.py:323: FutureWarning: The 'freq' argument in Timestamp is deprecated and will be removed in a future version.\n",
      "  timestamp = pd.Timestamp(string, freq=freq)\n",
      "/home/kashif/.env/pytorch/lib/python3.8/site-packages/gluonts/dataset/common.py:326: FutureWarning: Timestamp.freq is deprecated and will be removed in a future version\n",
      "  if isinstance(timestamp.freq, Tick):\n",
      "/home/kashif/.env/pytorch/lib/python3.8/site-packages/gluonts/dataset/common.py:337: FutureWarning: Timestamp.freq is deprecated and will be removed in a future version\n",
      "  return timestamp.freq.rollforward(timestamp)\n",
      "/home/kashif/.env/pytorch/lib/python3.8/site-packages/gluonts/transform/split.py:36: FutureWarning: Timestamp.freq is deprecated and will be removed in a future version\n",
      "  return _shift_timestamp_helper(ts, ts.freq, offset)\n",
      "/home/kashif/.env/pytorch/lib/python3.8/site-packages/gluonts/transform/feature.py:352: FutureWarning: Timestamp.freq is deprecated and will be removed in a future version\n",
      "  self._min_time_point, self._max_time_point, freq=start.freq\n"
     ]
    },
    {
     "data": {
      "application/vnd.jupyter.widget-view+json": {
       "model_id": "c38f8d11fd064186aeead783888ec580",
       "version_major": 2,
       "version_minor": 0
      },
      "text/plain": [
       "  0%|          | 0/15 [00:00<?, ?it/s]"
      ]
     },
     "metadata": {},
     "output_type": "display_data"
    },
    {
     "data": {
      "application/vnd.jupyter.widget-view+json": {
       "model_id": "5cf1a60f002245dba1dc27823dd30b7e",
       "version_major": 2,
       "version_minor": 0
      },
      "text/plain": [
       "  0%|          | 0/15 [00:00<?, ?it/s]"
      ]
     },
     "metadata": {},
     "output_type": "display_data"
    },
    {
     "data": {
      "application/vnd.jupyter.widget-view+json": {
       "model_id": "59a9244724c74dd299a54565cc6c3e12",
       "version_major": 2,
       "version_minor": 0
      },
      "text/plain": [
       "  0%|          | 0/15 [00:00<?, ?it/s]"
      ]
     },
     "metadata": {},
     "output_type": "display_data"
    },
    {
     "data": {
      "application/vnd.jupyter.widget-view+json": {
       "model_id": "3691843a0d22488ba49b7100b9625f79",
       "version_major": 2,
       "version_minor": 0
      },
      "text/plain": [
       "  0%|          | 0/15 [00:00<?, ?it/s]"
      ]
     },
     "metadata": {},
     "output_type": "display_data"
    },
    {
     "data": {
      "application/vnd.jupyter.widget-view+json": {
       "model_id": "51ce5c65993b4951a8957e73552cd7a9",
       "version_major": 2,
       "version_minor": 0
      },
      "text/plain": [
       "  0%|          | 0/15 [00:00<?, ?it/s]"
      ]
     },
     "metadata": {},
     "output_type": "display_data"
    },
    {
     "data": {
      "application/vnd.jupyter.widget-view+json": {
       "model_id": "6fc2770fc78a47db8f28d85ce987fc1c",
       "version_major": 2,
       "version_minor": 0
      },
      "text/plain": [
       "  0%|          | 0/15 [00:00<?, ?it/s]"
      ]
     },
     "metadata": {},
     "output_type": "display_data"
    },
    {
     "data": {
      "application/vnd.jupyter.widget-view+json": {
       "model_id": "126f3d96aad04dbc9ee177ee97565829",
       "version_major": 2,
       "version_minor": 0
      },
      "text/plain": [
       "  0%|          | 0/15 [00:00<?, ?it/s]"
      ]
     },
     "metadata": {},
     "output_type": "display_data"
    },
    {
     "data": {
      "application/vnd.jupyter.widget-view+json": {
       "model_id": "1fde4f9c4049470eb0bef84817058462",
       "version_major": 2,
       "version_minor": 0
      },
      "text/plain": [
       "  0%|          | 0/15 [00:00<?, ?it/s]"
      ]
     },
     "metadata": {},
     "output_type": "display_data"
    },
    {
     "data": {
      "application/vnd.jupyter.widget-view+json": {
       "model_id": "0d16016e8ce44359a584a0a1454aad78",
       "version_major": 2,
       "version_minor": 0
      },
      "text/plain": [
       "  0%|          | 0/15 [00:00<?, ?it/s]"
      ]
     },
     "metadata": {},
     "output_type": "display_data"
    },
    {
     "data": {
      "application/vnd.jupyter.widget-view+json": {
       "model_id": "6646fe44ec0a47e5840b8cf94fbb9ac4",
       "version_major": 2,
       "version_minor": 0
      },
      "text/plain": [
       "  0%|          | 0/15 [00:00<?, ?it/s]"
      ]
     },
     "metadata": {},
     "output_type": "display_data"
    },
    {
     "data": {
      "application/vnd.jupyter.widget-view+json": {
       "model_id": "6851c2aab49d408fa585590b0bcec7c4",
       "version_major": 2,
       "version_minor": 0
      },
      "text/plain": [
       "  0%|          | 0/15 [00:00<?, ?it/s]"
      ]
     },
     "metadata": {},
     "output_type": "display_data"
    },
    {
     "data": {
      "application/vnd.jupyter.widget-view+json": {
       "model_id": "466ae42169174ef59f0af81f6e1458bf",
       "version_major": 2,
       "version_minor": 0
      },
      "text/plain": [
       "  0%|          | 0/15 [00:00<?, ?it/s]"
      ]
     },
     "metadata": {},
     "output_type": "display_data"
    },
    {
     "data": {
      "application/vnd.jupyter.widget-view+json": {
       "model_id": "82c7d216b1ca460a819d662f554f093a",
       "version_major": 2,
       "version_minor": 0
      },
      "text/plain": [
       "  0%|          | 0/15 [00:00<?, ?it/s]"
      ]
     },
     "metadata": {},
     "output_type": "display_data"
    },
    {
     "data": {
      "application/vnd.jupyter.widget-view+json": {
       "model_id": "39e3119ea937427f87a3a456c43216b8",
       "version_major": 2,
       "version_minor": 0
      },
      "text/plain": [
       "  0%|          | 0/15 [00:00<?, ?it/s]"
      ]
     },
     "metadata": {},
     "output_type": "display_data"
    },
    {
     "data": {
      "application/vnd.jupyter.widget-view+json": {
       "model_id": "3b4210b26c764495a26b01380d2b6be5",
       "version_major": 2,
       "version_minor": 0
      },
      "text/plain": [
       "  0%|          | 0/15 [00:00<?, ?it/s]"
      ]
     },
     "metadata": {},
     "output_type": "display_data"
    },
    {
     "data": {
      "application/vnd.jupyter.widget-view+json": {
       "model_id": "8e65b30011b1457a9c096086cbc075de",
       "version_major": 2,
       "version_minor": 0
      },
      "text/plain": [
       "  0%|          | 0/15 [00:00<?, ?it/s]"
      ]
     },
     "metadata": {},
     "output_type": "display_data"
    },
    {
     "data": {
      "application/vnd.jupyter.widget-view+json": {
       "model_id": "302388256d2c4d7c9e9ce4daf9ff5d87",
       "version_major": 2,
       "version_minor": 0
      },
      "text/plain": [
       "  0%|          | 0/15 [00:00<?, ?it/s]"
      ]
     },
     "metadata": {},
     "output_type": "display_data"
    },
    {
     "data": {
      "application/vnd.jupyter.widget-view+json": {
       "model_id": "ddc477616dab4bf7bfb0765a0ec54992",
       "version_major": 2,
       "version_minor": 0
      },
      "text/plain": [
       "  0%|          | 0/15 [00:00<?, ?it/s]"
      ]
     },
     "metadata": {},
     "output_type": "display_data"
    },
    {
     "data": {
      "application/vnd.jupyter.widget-view+json": {
       "model_id": "0537f69e21c54b818f459fb2b7a770f2",
       "version_major": 2,
       "version_minor": 0
      },
      "text/plain": [
       "  0%|          | 0/15 [00:00<?, ?it/s]"
      ]
     },
     "metadata": {},
     "output_type": "display_data"
    },
    {
     "data": {
      "application/vnd.jupyter.widget-view+json": {
       "model_id": "f95d3253ddea45bb983ee28dc3177f10",
       "version_major": 2,
       "version_minor": 0
      },
      "text/plain": [
       "  0%|          | 0/15 [00:00<?, ?it/s]"
      ]
     },
     "metadata": {},
     "output_type": "display_data"
    },
    {
     "data": {
      "application/vnd.jupyter.widget-view+json": {
       "model_id": "ed3e96e949cb49bcb126278c496cbcf8",
       "version_major": 2,
       "version_minor": 0
      },
      "text/plain": [
       "  0%|          | 0/15 [00:00<?, ?it/s]"
      ]
     },
     "metadata": {},
     "output_type": "display_data"
    },
    {
     "data": {
      "application/vnd.jupyter.widget-view+json": {
       "model_id": "995859f0fb014127b7561d8cd2b77c75",
       "version_major": 2,
       "version_minor": 0
      },
      "text/plain": [
       "  0%|          | 0/15 [00:00<?, ?it/s]"
      ]
     },
     "metadata": {},
     "output_type": "display_data"
    },
    {
     "data": {
      "application/vnd.jupyter.widget-view+json": {
       "model_id": "502f11b402b44fc29e644e84d9215bfd",
       "version_major": 2,
       "version_minor": 0
      },
      "text/plain": [
       "  0%|          | 0/15 [00:00<?, ?it/s]"
      ]
     },
     "metadata": {},
     "output_type": "display_data"
    },
    {
     "data": {
      "application/vnd.jupyter.widget-view+json": {
       "model_id": "7cb32000353441848885f1d305cb9826",
       "version_major": 2,
       "version_minor": 0
      },
      "text/plain": [
       "  0%|          | 0/15 [00:00<?, ?it/s]"
      ]
     },
     "metadata": {},
     "output_type": "display_data"
    },
    {
     "data": {
      "application/vnd.jupyter.widget-view+json": {
       "model_id": "9724de83f80a4e12a3ac431fcd3a7d67",
       "version_major": 2,
       "version_minor": 0
      },
      "text/plain": [
       "  0%|          | 0/15 [00:00<?, ?it/s]"
      ]
     },
     "metadata": {},
     "output_type": "display_data"
    },
    {
     "data": {
      "application/vnd.jupyter.widget-view+json": {
       "model_id": "36616f38f0dc4d249ba50af824ace97b",
       "version_major": 2,
       "version_minor": 0
      },
      "text/plain": [
       "  0%|          | 0/15 [00:00<?, ?it/s]"
      ]
     },
     "metadata": {},
     "output_type": "display_data"
    },
    {
     "data": {
      "application/vnd.jupyter.widget-view+json": {
       "model_id": "ddfdad9464494e13aaf75b206d6ea6d0",
       "version_major": 2,
       "version_minor": 0
      },
      "text/plain": [
       "  0%|          | 0/15 [00:00<?, ?it/s]"
      ]
     },
     "metadata": {},
     "output_type": "display_data"
    },
    {
     "data": {
      "application/vnd.jupyter.widget-view+json": {
       "model_id": "6f78c1ec48b144d7a21a10a461905761",
       "version_major": 2,
       "version_minor": 0
      },
      "text/plain": [
       "  0%|          | 0/15 [00:00<?, ?it/s]"
      ]
     },
     "metadata": {},
     "output_type": "display_data"
    },
    {
     "data": {
      "application/vnd.jupyter.widget-view+json": {
       "model_id": "3a4db3e059984dccbc2cff4828b7ea9c",
       "version_major": 2,
       "version_minor": 0
      },
      "text/plain": [
       "  0%|          | 0/15 [00:00<?, ?it/s]"
      ]
     },
     "metadata": {},
     "output_type": "display_data"
    },
    {
     "name": "stderr",
     "output_type": "stream",
     "text": [
      "Running evaluation: 100%|█████████████████| 1024/1024 [00:00<00:00, 3568.67it/s]/home/kashif/.env/pytorch/lib/python3.8/site-packages/gluonts/evaluation/_base.py:305: FutureWarning: Timestamp.freq is deprecated and will be removed in a future version\n",
      "  date_before_forecast = forecast.index[0] - forecast.index[0].freq\n",
      "/home/kashif/.env/pytorch/lib/python3.8/site-packages/gluonts/evaluation/_base.py:305: FutureWarning: Timestamp.freq is deprecated and will be removed in a future version\n",
      "  date_before_forecast = forecast.index[0] - forecast.index[0].freq\n",
      "/home/kashif/.env/pytorch/lib/python3.8/site-packages/gluonts/evaluation/_base.py:305: FutureWarning: Timestamp.freq is deprecated and will be removed in a future version\n",
      "  date_before_forecast = forecast.index[0] - forecast.index[0].freq\n",
      "/home/kashif/.env/pytorch/lib/python3.8/site-packages/gluonts/evaluation/_base.py:305: FutureWarning: Timestamp.freq is deprecated and will be removed in a future version\n",
      "  date_before_forecast = forecast.index[0] - forecast.index[0].freq\n",
      "/home/kashif/.env/pytorch/lib/python3.8/site-packages/gluonts/evaluation/_base.py:305: FutureWarning: Timestamp.freq is deprecated and will be removed in a future version\n",
      "  date_before_forecast = forecast.index[0] - forecast.index[0].freq\n",
      "/home/kashif/.env/pytorch/lib/python3.8/site-packages/gluonts/evaluation/_base.py:305: FutureWarning: Timestamp.freq is deprecated and will be removed in a future version\n",
      "  date_before_forecast = forecast.index[0] - forecast.index[0].freq\n",
      "/home/kashif/.env/pytorch/lib/python3.8/site-packages/gluonts/evaluation/_base.py:305: FutureWarning: Timestamp.freq is deprecated and will be removed in a future version\n",
      "  date_before_forecast = forecast.index[0] - forecast.index[0].freq\n",
      "/home/kashif/.env/pytorch/lib/python3.8/site-packages/gluonts/evaluation/_base.py:305: FutureWarning: Timestamp.freq is deprecated and will be removed in a future version\n",
      "  date_before_forecast = forecast.index[0] - forecast.index[0].freq\n",
      "/home/kashif/.env/pytorch/lib/python3.8/site-packages/gluonts/evaluation/_base.py:305: FutureWarning: Timestamp.freq is deprecated and will be removed in a future version\n",
      "  date_before_forecast = forecast.index[0] - forecast.index[0].freq\n",
      "/home/kashif/.env/pytorch/lib/python3.8/site-packages/gluonts/evaluation/_base.py:305: FutureWarning: Timestamp.freq is deprecated and will be removed in a future version\n",
      "  date_before_forecast = forecast.index[0] - forecast.index[0].freq\n",
      "/home/kashif/.env/pytorch/lib/python3.8/site-packages/gluonts/evaluation/_base.py:305: FutureWarning: Timestamp.freq is deprecated and will be removed in a future version\n",
      "  date_before_forecast = forecast.index[0] - forecast.index[0].freq\n",
      "/home/kashif/.env/pytorch/lib/python3.8/site-packages/gluonts/evaluation/_base.py:305: FutureWarning: Timestamp.freq is deprecated and will be removed in a future version\n",
      "  date_before_forecast = forecast.index[0] - forecast.index[0].freq\n",
      "/home/kashif/.env/pytorch/lib/python3.8/site-packages/gluonts/evaluation/_base.py:305: FutureWarning: Timestamp.freq is deprecated and will be removed in a future version\n",
      "  date_before_forecast = forecast.index[0] - forecast.index[0].freq\n",
      "/home/kashif/.env/pytorch/lib/python3.8/site-packages/gluonts/evaluation/_base.py:305: FutureWarning: Timestamp.freq is deprecated and will be removed in a future version\n",
      "  date_before_forecast = forecast.index[0] - forecast.index[0].freq\n",
      "/home/kashif/.env/pytorch/lib/python3.8/site-packages/gluonts/evaluation/_base.py:305: FutureWarning: Timestamp.freq is deprecated and will be removed in a future version\n",
      "  date_before_forecast = forecast.index[0] - forecast.index[0].freq\n",
      "/home/kashif/.env/pytorch/lib/python3.8/site-packages/gluonts/evaluation/_base.py:305: FutureWarning: Timestamp.freq is deprecated and will be removed in a future version\n",
      "  date_before_forecast = forecast.index[0] - forecast.index[0].freq\n",
      "\n"
     ]
    },
    {
     "data": {
      "text/plain": [
       "0.03130377492264345"
      ]
     },
     "execution_count": 9,
     "metadata": {},
     "output_type": "execute_result"
    }
   ],
   "source": [
    "train_nbeats(nbeats_X_estimator, elastic_dataset)"
   ]
  },
  {
   "cell_type": "markdown",
   "id": "7293b505",
   "metadata": {},
   "source": [
    "## Nbeats "
   ]
  },
  {
   "cell_type": "code",
   "execution_count": 10,
   "id": "facd00f2",
   "metadata": {
    "scrolled": true
   },
   "outputs": [
    {
     "data": {
      "application/vnd.jupyter.widget-view+json": {
       "model_id": "b5ed5c1d405543cb8befa146eba2acde",
       "version_major": 2,
       "version_minor": 0
      },
      "text/plain": [
       "  0%|          | 0/15 [00:00<?, ?it/s]"
      ]
     },
     "metadata": {},
     "output_type": "display_data"
    },
    {
     "data": {
      "application/vnd.jupyter.widget-view+json": {
       "model_id": "bcab07b69be549f88b561919be4bd646",
       "version_major": 2,
       "version_minor": 0
      },
      "text/plain": [
       "  0%|          | 0/15 [00:00<?, ?it/s]"
      ]
     },
     "metadata": {},
     "output_type": "display_data"
    },
    {
     "data": {
      "application/vnd.jupyter.widget-view+json": {
       "model_id": "0d5077b2b8024e5d90333b5ae1beae7f",
       "version_major": 2,
       "version_minor": 0
      },
      "text/plain": [
       "  0%|          | 0/15 [00:00<?, ?it/s]"
      ]
     },
     "metadata": {},
     "output_type": "display_data"
    },
    {
     "data": {
      "application/vnd.jupyter.widget-view+json": {
       "model_id": "e05e063cad984b8aa84e626d66bdc2bb",
       "version_major": 2,
       "version_minor": 0
      },
      "text/plain": [
       "  0%|          | 0/15 [00:00<?, ?it/s]"
      ]
     },
     "metadata": {},
     "output_type": "display_data"
    },
    {
     "data": {
      "application/vnd.jupyter.widget-view+json": {
       "model_id": "2ef52df27ff24c169f65459924168902",
       "version_major": 2,
       "version_minor": 0
      },
      "text/plain": [
       "  0%|          | 0/15 [00:00<?, ?it/s]"
      ]
     },
     "metadata": {},
     "output_type": "display_data"
    },
    {
     "data": {
      "application/vnd.jupyter.widget-view+json": {
       "model_id": "4e50b150cfc04dc68a94aff8d4da2be3",
       "version_major": 2,
       "version_minor": 0
      },
      "text/plain": [
       "  0%|          | 0/15 [00:00<?, ?it/s]"
      ]
     },
     "metadata": {},
     "output_type": "display_data"
    },
    {
     "data": {
      "application/vnd.jupyter.widget-view+json": {
       "model_id": "9087ccbb4b584d8a8f24d19d9b918b53",
       "version_major": 2,
       "version_minor": 0
      },
      "text/plain": [
       "  0%|          | 0/15 [00:00<?, ?it/s]"
      ]
     },
     "metadata": {},
     "output_type": "display_data"
    },
    {
     "data": {
      "application/vnd.jupyter.widget-view+json": {
       "model_id": "7d9bf9ff47fb4902b8f91dda7d885b74",
       "version_major": 2,
       "version_minor": 0
      },
      "text/plain": [
       "  0%|          | 0/15 [00:00<?, ?it/s]"
      ]
     },
     "metadata": {},
     "output_type": "display_data"
    },
    {
     "data": {
      "application/vnd.jupyter.widget-view+json": {
       "model_id": "d011a082c78c4584ad7ced8edbd4769a",
       "version_major": 2,
       "version_minor": 0
      },
      "text/plain": [
       "  0%|          | 0/15 [00:00<?, ?it/s]"
      ]
     },
     "metadata": {},
     "output_type": "display_data"
    },
    {
     "data": {
      "application/vnd.jupyter.widget-view+json": {
       "model_id": "362960b51a6c4f4998eacdbb4b58e7ec",
       "version_major": 2,
       "version_minor": 0
      },
      "text/plain": [
       "  0%|          | 0/15 [00:00<?, ?it/s]"
      ]
     },
     "metadata": {},
     "output_type": "display_data"
    },
    {
     "data": {
      "application/vnd.jupyter.widget-view+json": {
       "model_id": "0cbe70618786455d8d82e21dfee94923",
       "version_major": 2,
       "version_minor": 0
      },
      "text/plain": [
       "  0%|          | 0/15 [00:00<?, ?it/s]"
      ]
     },
     "metadata": {},
     "output_type": "display_data"
    },
    {
     "data": {
      "application/vnd.jupyter.widget-view+json": {
       "model_id": "97b21394aeb640a985ef10700b72430a",
       "version_major": 2,
       "version_minor": 0
      },
      "text/plain": [
       "  0%|          | 0/15 [00:00<?, ?it/s]"
      ]
     },
     "metadata": {},
     "output_type": "display_data"
    },
    {
     "data": {
      "application/vnd.jupyter.widget-view+json": {
       "model_id": "f644f676000b46aca52de7023bf8537f",
       "version_major": 2,
       "version_minor": 0
      },
      "text/plain": [
       "  0%|          | 0/15 [00:00<?, ?it/s]"
      ]
     },
     "metadata": {},
     "output_type": "display_data"
    },
    {
     "data": {
      "application/vnd.jupyter.widget-view+json": {
       "model_id": "1921fadc427a45cba13ba241c680d55b",
       "version_major": 2,
       "version_minor": 0
      },
      "text/plain": [
       "  0%|          | 0/15 [00:00<?, ?it/s]"
      ]
     },
     "metadata": {},
     "output_type": "display_data"
    },
    {
     "data": {
      "application/vnd.jupyter.widget-view+json": {
       "model_id": "be6be33360a74f48ae10de468b45a0e4",
       "version_major": 2,
       "version_minor": 0
      },
      "text/plain": [
       "  0%|          | 0/15 [00:00<?, ?it/s]"
      ]
     },
     "metadata": {},
     "output_type": "display_data"
    },
    {
     "data": {
      "application/vnd.jupyter.widget-view+json": {
       "model_id": "6f8bb3e48c1e412cacf1b0a1fdd6dc2c",
       "version_major": 2,
       "version_minor": 0
      },
      "text/plain": [
       "  0%|          | 0/15 [00:00<?, ?it/s]"
      ]
     },
     "metadata": {},
     "output_type": "display_data"
    },
    {
     "data": {
      "application/vnd.jupyter.widget-view+json": {
       "model_id": "c3006eeabb9b42608696d7528238097d",
       "version_major": 2,
       "version_minor": 0
      },
      "text/plain": [
       "  0%|          | 0/15 [00:00<?, ?it/s]"
      ]
     },
     "metadata": {},
     "output_type": "display_data"
    },
    {
     "data": {
      "application/vnd.jupyter.widget-view+json": {
       "model_id": "a14ea111290544b2ad16ec124328ac39",
       "version_major": 2,
       "version_minor": 0
      },
      "text/plain": [
       "  0%|          | 0/15 [00:00<?, ?it/s]"
      ]
     },
     "metadata": {},
     "output_type": "display_data"
    },
    {
     "data": {
      "application/vnd.jupyter.widget-view+json": {
       "model_id": "7710c0ecb7c04135a94a5e6d0f527b3e",
       "version_major": 2,
       "version_minor": 0
      },
      "text/plain": [
       "  0%|          | 0/15 [00:00<?, ?it/s]"
      ]
     },
     "metadata": {},
     "output_type": "display_data"
    },
    {
     "data": {
      "application/vnd.jupyter.widget-view+json": {
       "model_id": "06588ffb63df4c32abafe72a31c938f1",
       "version_major": 2,
       "version_minor": 0
      },
      "text/plain": [
       "  0%|          | 0/15 [00:00<?, ?it/s]"
      ]
     },
     "metadata": {},
     "output_type": "display_data"
    },
    {
     "data": {
      "application/vnd.jupyter.widget-view+json": {
       "model_id": "0ba1741255b84af7be6fc5e165540b6c",
       "version_major": 2,
       "version_minor": 0
      },
      "text/plain": [
       "  0%|          | 0/15 [00:00<?, ?it/s]"
      ]
     },
     "metadata": {},
     "output_type": "display_data"
    },
    {
     "data": {
      "application/vnd.jupyter.widget-view+json": {
       "model_id": "287a51cef2514ddfa78c5a75bdfc65a2",
       "version_major": 2,
       "version_minor": 0
      },
      "text/plain": [
       "  0%|          | 0/15 [00:00<?, ?it/s]"
      ]
     },
     "metadata": {},
     "output_type": "display_data"
    },
    {
     "data": {
      "application/vnd.jupyter.widget-view+json": {
       "model_id": "63395a1adade488581136cd4900c0080",
       "version_major": 2,
       "version_minor": 0
      },
      "text/plain": [
       "  0%|          | 0/15 [00:00<?, ?it/s]"
      ]
     },
     "metadata": {},
     "output_type": "display_data"
    },
    {
     "data": {
      "application/vnd.jupyter.widget-view+json": {
       "model_id": "6c31f02410094f1e87b9240524812d05",
       "version_major": 2,
       "version_minor": 0
      },
      "text/plain": [
       "  0%|          | 0/15 [00:00<?, ?it/s]"
      ]
     },
     "metadata": {},
     "output_type": "display_data"
    },
    {
     "data": {
      "application/vnd.jupyter.widget-view+json": {
       "model_id": "ae3d698227e14e49ad931b4e67fc93e6",
       "version_major": 2,
       "version_minor": 0
      },
      "text/plain": [
       "  0%|          | 0/15 [00:00<?, ?it/s]"
      ]
     },
     "metadata": {},
     "output_type": "display_data"
    },
    {
     "data": {
      "application/vnd.jupyter.widget-view+json": {
       "model_id": "c9d68cf183804df3be08a8d63f6a5646",
       "version_major": 2,
       "version_minor": 0
      },
      "text/plain": [
       "  0%|          | 0/15 [00:00<?, ?it/s]"
      ]
     },
     "metadata": {},
     "output_type": "display_data"
    },
    {
     "data": {
      "application/vnd.jupyter.widget-view+json": {
       "model_id": "a5ee9db414b748d3a367689eab6707c6",
       "version_major": 2,
       "version_minor": 0
      },
      "text/plain": [
       "  0%|          | 0/15 [00:00<?, ?it/s]"
      ]
     },
     "metadata": {},
     "output_type": "display_data"
    },
    {
     "data": {
      "application/vnd.jupyter.widget-view+json": {
       "model_id": "ef52c54422dd411ba6f53e8ae5b32e9f",
       "version_major": 2,
       "version_minor": 0
      },
      "text/plain": [
       "  0%|          | 0/15 [00:00<?, ?it/s]"
      ]
     },
     "metadata": {},
     "output_type": "display_data"
    },
    {
     "data": {
      "application/vnd.jupyter.widget-view+json": {
       "model_id": "40f50c8cc51e42e3b97c285b32d3deb5",
       "version_major": 2,
       "version_minor": 0
      },
      "text/plain": [
       "  0%|          | 0/15 [00:00<?, ?it/s]"
      ]
     },
     "metadata": {},
     "output_type": "display_data"
    },
    {
     "data": {
      "application/vnd.jupyter.widget-view+json": {
       "model_id": "2ec68a83488e43058e13e857c3233a65",
       "version_major": 2,
       "version_minor": 0
      },
      "text/plain": [
       "  0%|          | 0/15 [00:00<?, ?it/s]"
      ]
     },
     "metadata": {},
     "output_type": "display_data"
    },
    {
     "name": "stderr",
     "output_type": "stream",
     "text": [
      "Running evaluation: 100%|█████████████████| 1024/1024 [00:00<00:00, 3426.40it/s]/home/kashif/.env/pytorch/lib/python3.8/site-packages/gluonts/evaluation/_base.py:305: FutureWarning: Timestamp.freq is deprecated and will be removed in a future version\n",
      "  date_before_forecast = forecast.index[0] - forecast.index[0].freq\n",
      "/home/kashif/.env/pytorch/lib/python3.8/site-packages/gluonts/evaluation/_base.py:305: FutureWarning: Timestamp.freq is deprecated and will be removed in a future version\n",
      "  date_before_forecast = forecast.index[0] - forecast.index[0].freq\n",
      "/home/kashif/.env/pytorch/lib/python3.8/site-packages/gluonts/evaluation/_base.py:305: FutureWarning: Timestamp.freq is deprecated and will be removed in a future version\n",
      "  date_before_forecast = forecast.index[0] - forecast.index[0].freq\n",
      "/home/kashif/.env/pytorch/lib/python3.8/site-packages/gluonts/evaluation/_base.py:305: FutureWarning: Timestamp.freq is deprecated and will be removed in a future version\n",
      "  date_before_forecast = forecast.index[0] - forecast.index[0].freq\n",
      "/home/kashif/.env/pytorch/lib/python3.8/site-packages/gluonts/evaluation/_base.py:305: FutureWarning: Timestamp.freq is deprecated and will be removed in a future version\n",
      "  date_before_forecast = forecast.index[0] - forecast.index[0].freq\n",
      "/home/kashif/.env/pytorch/lib/python3.8/site-packages/gluonts/evaluation/_base.py:305: FutureWarning: Timestamp.freq is deprecated and will be removed in a future version\n",
      "  date_before_forecast = forecast.index[0] - forecast.index[0].freq\n",
      "/home/kashif/.env/pytorch/lib/python3.8/site-packages/gluonts/evaluation/_base.py:305: FutureWarning: Timestamp.freq is deprecated and will be removed in a future version\n",
      "  date_before_forecast = forecast.index[0] - forecast.index[0].freq\n",
      "/home/kashif/.env/pytorch/lib/python3.8/site-packages/gluonts/evaluation/_base.py:305: FutureWarning: Timestamp.freq is deprecated and will be removed in a future version\n",
      "  date_before_forecast = forecast.index[0] - forecast.index[0].freq\n",
      "/home/kashif/.env/pytorch/lib/python3.8/site-packages/gluonts/evaluation/_base.py:305: FutureWarning: Timestamp.freq is deprecated and will be removed in a future version\n",
      "  date_before_forecast = forecast.index[0] - forecast.index[0].freq\n",
      "/home/kashif/.env/pytorch/lib/python3.8/site-packages/gluonts/evaluation/_base.py:305: FutureWarning: Timestamp.freq is deprecated and will be removed in a future version\n",
      "  date_before_forecast = forecast.index[0] - forecast.index[0].freq\n",
      "/home/kashif/.env/pytorch/lib/python3.8/site-packages/gluonts/evaluation/_base.py:305: FutureWarning: Timestamp.freq is deprecated and will be removed in a future version\n",
      "  date_before_forecast = forecast.index[0] - forecast.index[0].freq\n",
      "/home/kashif/.env/pytorch/lib/python3.8/site-packages/gluonts/evaluation/_base.py:305: FutureWarning: Timestamp.freq is deprecated and will be removed in a future version\n",
      "  date_before_forecast = forecast.index[0] - forecast.index[0].freq\n",
      "/home/kashif/.env/pytorch/lib/python3.8/site-packages/gluonts/evaluation/_base.py:305: FutureWarning: Timestamp.freq is deprecated and will be removed in a future version\n",
      "  date_before_forecast = forecast.index[0] - forecast.index[0].freq\n",
      "/home/kashif/.env/pytorch/lib/python3.8/site-packages/gluonts/evaluation/_base.py:305: FutureWarning: Timestamp.freq is deprecated and will be removed in a future version\n",
      "  date_before_forecast = forecast.index[0] - forecast.index[0].freq\n",
      "/home/kashif/.env/pytorch/lib/python3.8/site-packages/gluonts/evaluation/_base.py:305: FutureWarning: Timestamp.freq is deprecated and will be removed in a future version\n",
      "  date_before_forecast = forecast.index[0] - forecast.index[0].freq\n",
      "/home/kashif/.env/pytorch/lib/python3.8/site-packages/gluonts/evaluation/_base.py:305: FutureWarning: Timestamp.freq is deprecated and will be removed in a future version\n",
      "  date_before_forecast = forecast.index[0] - forecast.index[0].freq\n",
      "\n"
     ]
    },
    {
     "data": {
      "text/plain": [
       "0.04715548538551974"
      ]
     },
     "execution_count": 10,
     "metadata": {},
     "output_type": "execute_result"
    }
   ],
   "source": [
    "train_nbeats(nbeats_estimator, elastic_dataset)"
   ]
  },
  {
   "cell_type": "code",
   "execution_count": null,
   "id": "2880d7b0",
   "metadata": {},
   "outputs": [],
   "source": []
  }
 ],
 "metadata": {
  "kernelspec": {
   "display_name": "Python 3 (ipykernel)",
   "language": "python",
   "name": "python3"
  },
  "language_info": {
   "codemirror_mode": {
    "name": "ipython",
    "version": 3
   },
   "file_extension": ".py",
   "mimetype": "text/x-python",
   "name": "python",
   "nbconvert_exporter": "python",
   "pygments_lexer": "ipython3",
   "version": "3.8.10"
  }
 },
 "nbformat": 4,
 "nbformat_minor": 5
}
