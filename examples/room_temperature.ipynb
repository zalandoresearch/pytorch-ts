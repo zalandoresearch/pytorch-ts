{
 "cells": [
  {
   "cell_type": "markdown",
   "id": "ef96d7f9",
   "metadata": {},
   "source": [
    "In this notebook we show how to prepare data for a multivariate ts case with multiple exogenous variables. Depending on how the original structure of your data is, there might be different ways for achieving this. Here two different scenarios will be shown from where the creation of the feat_dynamic_real with multiple features is presented:\n",
    "\n",
    "1) The relevant ts features (and targets) can be found in seperated columns, which need to be extracted.\n",
    "\n",
    "2) The relevant ts target and features are stacked for each ID having a df with fewer columns but more rows\n",
    "\n",
    "The main idea to understand is that the final feat_dynamic_real has to be in the following shape using GluonTS:\n",
    "- (number of time-series, number of features, number of steps)"
   ]
  },
  {
   "cell_type": "code",
   "execution_count": 1,
   "id": "bde6de20",
   "metadata": {},
   "outputs": [
    {
     "name": "stderr",
     "output_type": "stream",
     "text": [
      "/Users/janrathfelder/opt/anaconda3/envs/py37/lib/python3.7/site-packages/gluonts/json.py:46: UserWarning: Using `json`-module for json-handling. Consider installing one of `orjson`, `ujson` to speed up serialization and deserialization.\n",
      "  \"Using `json`-module for json-handling. \"\n"
     ]
    }
   ],
   "source": [
    "import matplotlib.pyplot as plt\n",
    "import pandas as pd\n",
    "import numpy as np\n",
    "\n",
    "import torch\n",
    "from gluonts.dataset.common import ListDataset\n",
    "from gluonts.dataset.util import to_pandas\n",
    "\n",
    "from pts.model.deepar import DeepAREstimator\n",
    "from pts import Trainer\n",
    "from gluonts.evaluation.backtest import make_evaluation_predictions\n",
    "from gluonts.evaluation import Evaluator\n",
    "from gluonts import time_feature\n",
    "import json\n",
    "from itertools import islice\n",
    "from gluonts.dataset.field_names import FieldName\n",
    "\n",
    "pd.set_option('display.max_rows', 500)\n",
    "pd.set_option('display.max_columns', 500)\n",
    "pd.set_option('display.width', 1000)"
   ]
  },
  {
   "cell_type": "code",
   "execution_count": 2,
   "id": "7bdfe799",
   "metadata": {},
   "outputs": [
    {
     "data": {
      "text/plain": [
       "(19735, 28)"
      ]
     },
     "execution_count": 2,
     "metadata": {},
     "output_type": "execute_result"
    }
   ],
   "source": [
    "# Load data\n",
    "\n",
    "url = 'https://archive.ics.uci.edu/ml/machine-learning-databases/00374/energydata_complete.csv'\n",
    "df = pd.read_csv(url, index_col=0)\n",
    "df.shape"
   ]
  },
  {
   "cell_type": "code",
   "execution_count": 3,
   "id": "44e6140f",
   "metadata": {},
   "outputs": [
    {
     "data": {
      "text/plain": [
       "Index(['Appliances', 'lights', 'T1', 'RH_1', 'T2', 'RH_2', 'T3', 'RH_3', 'T4', 'RH_4', 'T5', 'RH_5', 'T6', 'RH_6', 'T7', 'RH_7', 'T8', 'RH_8', 'T9', 'RH_9', 'T_out', 'Press_mm_hg', 'RH_out', 'Windspeed', 'Visibility', 'Tdewpoint', 'rv1', 'rv2'], dtype='object')"
      ]
     },
     "execution_count": 3,
     "metadata": {},
     "output_type": "execute_result"
    }
   ],
   "source": [
    "# check columns:\n",
    "\n",
    "df.columns"
   ]
  },
  {
   "cell_type": "code",
   "execution_count": 4,
   "id": "b3893774",
   "metadata": {},
   "outputs": [],
   "source": [
    "# define target and features:\n",
    "\n",
    "target_cols = [col for col in df.columns if 'T' in col and len(col) <=2]\n",
    "features_room = [col for col in df.columns if 'RH' in col and len(col) <=4]\n",
    "features_outside = list(filter(lambda x:x not in target_cols+features_room, \n",
    "                               df.columns))"
   ]
  },
  {
   "cell_type": "code",
   "execution_count": 5,
   "id": "6c611f35",
   "metadata": {},
   "outputs": [],
   "source": [
    "# normalize input data:\n",
    "\n",
    "input_cols = features_room+features_outside\n",
    "\n",
    "norm_df = df[input_cols].apply(lambda x: (x - np.min(x)) / (np.max(x) - np.min(x)))\n",
    "final_df = pd.concat([df[target_cols], norm_df], ignore_index=False, sort=False, axis=1)"
   ]
  },
  {
   "cell_type": "code",
   "execution_count": 6,
   "id": "2d728829",
   "metadata": {},
   "outputs": [],
   "source": [
    "# return values:\n",
    "\n",
    "target = final_df[target_cols].T.values\n",
    "f_room = final_df[features_room].T.values\n",
    "f_outside = final_df[features_outside].T.values"
   ]
  },
  {
   "cell_type": "markdown",
   "id": "9bbd1cc1",
   "metadata": {},
   "source": [
    "#### Manual way of creating feat_dynamic_real"
   ]
  },
  {
   "cell_type": "code",
   "execution_count": 577,
   "id": "d8ebd33a",
   "metadata": {},
   "outputs": [
    {
     "data": {
      "text/plain": [
       "(9, 11, 19735)"
      ]
     },
     "execution_count": 577,
     "metadata": {},
     "output_type": "execute_result"
    }
   ],
   "source": [
    "# We vstack the features that are indvididual\n",
    "# for each room and the features from outside.\n",
    "# In a final step, to create a 3-d array, we stack\n",
    "# the individual arrays to get the final\n",
    "# feat_dynamic_real:\n",
    "\n",
    "a = np.vstack((f_room[0],f_outside))\n",
    "b = np.vstack((f_room[1],f_outside))\n",
    "c = np.vstack((f_room[2],f_outside))\n",
    "d = np.vstack((f_room[3],f_outside))\n",
    "e = np.vstack((f_room[4],f_outside))\n",
    "f = np.vstack((f_room[5],f_outside))\n",
    "g = np.vstack((f_room[6],f_outside))\n",
    "h = np.vstack((f_room[7],f_outside))\n",
    "i = np.vstack((f_room[8],f_outside))\n",
    "\n",
    "feat_dynamic_real = np.stack((a,b,c,d,e,f,g,h,i))\n",
    "feat_dynamic_real.shape"
   ]
  },
  {
   "cell_type": "markdown",
   "id": "e09a5f1a",
   "metadata": {},
   "source": [
    "#### Stacking using loop to get feat_dynamic_real"
   ]
  },
  {
   "cell_type": "code",
   "execution_count": 7,
   "id": "e6a587ad",
   "metadata": {},
   "outputs": [
    {
     "data": {
      "text/plain": [
       "(9, 11, 19735)"
      ]
     },
     "execution_count": 7,
     "metadata": {},
     "output_type": "execute_result"
    }
   ],
   "source": [
    "# Here we loop through the features creating \n",
    "# a dictand using the stacked values to create\n",
    "# feat_dynamic_real in required shape:\n",
    "\n",
    "dct = {}\n",
    "\n",
    "for i,v in enumerate(range(len(f_room))):\n",
    "    dct[i] = np.vstack((f_room[i],f_outside))\n",
    "    \n",
    "feat_dynamic_real = np.stack((list(dct.values()))) \n",
    "feat_dynamic_real.shape"
   ]
  },
  {
   "cell_type": "markdown",
   "id": "49e2589b",
   "metadata": {},
   "source": [
    "#### Multiple ts values in one column"
   ]
  },
  {
   "cell_type": "code",
   "execution_count": 8,
   "id": "0cacf4f6",
   "metadata": {},
   "outputs": [
    {
     "name": "stdout",
     "output_type": "stream",
     "text": [
      "(177615, 15) Index(['index', 'date', 'level_1', 'T', 'F', 'Appliances', 'lights', 'T_out', 'Press_mm_hg', 'RH_out', 'Windspeed', 'Visibility', 'Tdewpoint', 'rv1', 'rv2'], dtype='object')\n"
     ]
    }
   ],
   "source": [
    "# First we need to create a new df\n",
    "# where the data is stacked.\n",
    "# Having stacked data in few columns\n",
    "# requires different way of data\n",
    "# preperation:\n",
    "\n",
    "df_t = final_df[target_cols].stack().reset_index().rename(columns={0:'T'}).sort_values(['level_1','date']).reset_index()\n",
    "df_r = final_df[features_room].stack().reset_index().rename(columns={0:'Features'}).sort_values(['level_1','date']).reset_index()\n",
    "df_t['F'] = df_r['Features'].copy()\n",
    "\n",
    "for col in features_outside:\n",
    "    b = []\n",
    "    for i in range(len(target)):\n",
    "        a = list(final_df[col])\n",
    "        b = np.concatenate((b,a))\n",
    "    df_t[col] = b.reshape(-1,1)\n",
    "print(df_t.shape,\n",
    "      df_t.columns)    "
   ]
  },
  {
   "cell_type": "code",
   "execution_count": 9,
   "id": "f689fbed",
   "metadata": {},
   "outputs": [
    {
     "data": {
      "text/html": [
       "<div>\n",
       "<style scoped>\n",
       "    .dataframe tbody tr th:only-of-type {\n",
       "        vertical-align: middle;\n",
       "    }\n",
       "\n",
       "    .dataframe tbody tr th {\n",
       "        vertical-align: top;\n",
       "    }\n",
       "\n",
       "    .dataframe thead th {\n",
       "        text-align: right;\n",
       "    }\n",
       "</style>\n",
       "<table border=\"1\" class=\"dataframe\">\n",
       "  <thead>\n",
       "    <tr style=\"text-align: right;\">\n",
       "      <th></th>\n",
       "      <th>index</th>\n",
       "      <th>date</th>\n",
       "      <th>level_1</th>\n",
       "      <th>T</th>\n",
       "      <th>F</th>\n",
       "      <th>Appliances</th>\n",
       "      <th>lights</th>\n",
       "      <th>T_out</th>\n",
       "      <th>Press_mm_hg</th>\n",
       "      <th>RH_out</th>\n",
       "      <th>Windspeed</th>\n",
       "      <th>Visibility</th>\n",
       "      <th>Tdewpoint</th>\n",
       "      <th>rv1</th>\n",
       "      <th>rv2</th>\n",
       "    </tr>\n",
       "  </thead>\n",
       "  <tbody>\n",
       "    <tr>\n",
       "      <th>0</th>\n",
       "      <td>0</td>\n",
       "      <td>2016-01-11 17:00:00</td>\n",
       "      <td>T1</td>\n",
       "      <td>19.89</td>\n",
       "      <td>0.566187</td>\n",
       "      <td>0.046729</td>\n",
       "      <td>0.428571</td>\n",
       "      <td>0.372990</td>\n",
       "      <td>0.097674</td>\n",
       "      <td>0.894737</td>\n",
       "      <td>0.500000</td>\n",
       "      <td>0.953846</td>\n",
       "      <td>0.538462</td>\n",
       "      <td>0.265449</td>\n",
       "      <td>0.265449</td>\n",
       "    </tr>\n",
       "    <tr>\n",
       "      <th>1</th>\n",
       "      <td>9</td>\n",
       "      <td>2016-01-11 17:10:00</td>\n",
       "      <td>T1</td>\n",
       "      <td>19.89</td>\n",
       "      <td>0.541326</td>\n",
       "      <td>0.046729</td>\n",
       "      <td>0.428571</td>\n",
       "      <td>0.369239</td>\n",
       "      <td>0.100000</td>\n",
       "      <td>0.894737</td>\n",
       "      <td>0.476190</td>\n",
       "      <td>0.894872</td>\n",
       "      <td>0.533937</td>\n",
       "      <td>0.372083</td>\n",
       "      <td>0.372083</td>\n",
       "    </tr>\n",
       "    <tr>\n",
       "      <th>2</th>\n",
       "      <td>18</td>\n",
       "      <td>2016-01-11 17:20:00</td>\n",
       "      <td>T1</td>\n",
       "      <td>19.89</td>\n",
       "      <td>0.530502</td>\n",
       "      <td>0.037383</td>\n",
       "      <td>0.428571</td>\n",
       "      <td>0.365488</td>\n",
       "      <td>0.102326</td>\n",
       "      <td>0.894737</td>\n",
       "      <td>0.452381</td>\n",
       "      <td>0.835897</td>\n",
       "      <td>0.529412</td>\n",
       "      <td>0.572848</td>\n",
       "      <td>0.572848</td>\n",
       "    </tr>\n",
       "    <tr>\n",
       "      <th>3</th>\n",
       "      <td>27</td>\n",
       "      <td>2016-01-11 17:30:00</td>\n",
       "      <td>T1</td>\n",
       "      <td>19.89</td>\n",
       "      <td>0.524080</td>\n",
       "      <td>0.037383</td>\n",
       "      <td>0.571429</td>\n",
       "      <td>0.361736</td>\n",
       "      <td>0.104651</td>\n",
       "      <td>0.894737</td>\n",
       "      <td>0.428571</td>\n",
       "      <td>0.776923</td>\n",
       "      <td>0.524887</td>\n",
       "      <td>0.908261</td>\n",
       "      <td>0.908261</td>\n",
       "    </tr>\n",
       "    <tr>\n",
       "      <th>4</th>\n",
       "      <td>36</td>\n",
       "      <td>2016-01-11 17:40:00</td>\n",
       "      <td>T1</td>\n",
       "      <td>19.89</td>\n",
       "      <td>0.531419</td>\n",
       "      <td>0.046729</td>\n",
       "      <td>0.571429</td>\n",
       "      <td>0.357985</td>\n",
       "      <td>0.106977</td>\n",
       "      <td>0.894737</td>\n",
       "      <td>0.404762</td>\n",
       "      <td>0.717949</td>\n",
       "      <td>0.520362</td>\n",
       "      <td>0.201611</td>\n",
       "      <td>0.201611</td>\n",
       "    </tr>\n",
       "  </tbody>\n",
       "</table>\n",
       "</div>"
      ],
      "text/plain": [
       "   index                 date level_1      T         F  Appliances    lights     T_out  Press_mm_hg    RH_out  Windspeed  Visibility  Tdewpoint       rv1       rv2\n",
       "0      0  2016-01-11 17:00:00      T1  19.89  0.566187    0.046729  0.428571  0.372990     0.097674  0.894737   0.500000    0.953846   0.538462  0.265449  0.265449\n",
       "1      9  2016-01-11 17:10:00      T1  19.89  0.541326    0.046729  0.428571  0.369239     0.100000  0.894737   0.476190    0.894872   0.533937  0.372083  0.372083\n",
       "2     18  2016-01-11 17:20:00      T1  19.89  0.530502    0.037383  0.428571  0.365488     0.102326  0.894737   0.452381    0.835897   0.529412  0.572848  0.572848\n",
       "3     27  2016-01-11 17:30:00      T1  19.89  0.524080    0.037383  0.571429  0.361736     0.104651  0.894737   0.428571    0.776923   0.524887  0.908261  0.908261\n",
       "4     36  2016-01-11 17:40:00      T1  19.89  0.531419    0.046729  0.571429  0.357985     0.106977  0.894737   0.404762    0.717949   0.520362  0.201611  0.201611"
      ]
     },
     "execution_count": 9,
     "metadata": {},
     "output_type": "execute_result"
    }
   ],
   "source": [
    "# look at the new df:\n",
    "\n",
    "df_t.head()"
   ]
  },
  {
   "cell_type": "code",
   "execution_count": 10,
   "id": "c6189c96",
   "metadata": {},
   "outputs": [
    {
     "name": "stdout",
     "output_type": "stream",
     "text": [
      "19735.0 and 9\n"
     ]
    }
   ],
   "source": [
    "# return number of ts and number of targets\n",
    "\n",
    "number_ts = df_t.shape[0]/df_t.level_1.nunique()\n",
    "number_targets = df_t.level_1.nunique()\n",
    "\n",
    "print(number_ts, 'and',\n",
    "      number_targets)"
   ]
  },
  {
   "cell_type": "code",
   "execution_count": 11,
   "id": "9ff01e17",
   "metadata": {},
   "outputs": [
    {
     "data": {
      "text/plain": [
       "(9, 19735)"
      ]
     },
     "execution_count": 11,
     "metadata": {},
     "output_type": "execute_result"
    }
   ],
   "source": [
    "# Extract target and stack:\n",
    "\n",
    "dct_t = {}\n",
    "\n",
    "for i in range(len(target)):\n",
    "    dct_t[i] = df_t.loc[(number_ts*i):number_ts*(i+1)-1,'T']\n",
    "\n",
    "target = np.stack(list(dct_t.values()))\n",
    "target.shape    "
   ]
  },
  {
   "cell_type": "code",
   "execution_count": 12,
   "id": "8597509b",
   "metadata": {},
   "outputs": [
    {
     "name": "stdout",
     "output_type": "stream",
     "text": [
      "(9, 11, 19735)\n",
      "Note that the final shape of feat_dynamic_real is exactly as above.\n"
     ]
    }
   ],
   "source": [
    "# Extract features and stack:\n",
    "\n",
    "dct_f = {}\n",
    "\n",
    "for i in range(len(target)):\n",
    "    dct_f[i] = df_t.loc[(number_ts*i):number_ts*(i+1)-1,['F']+features_outside].T\n",
    "\n",
    "feat_dynamic_real = np.stack(list(dct_f.values()))\n",
    "print(feat_dynamic_real.shape)\n",
    "print('Note that the final shape of feat_dynamic_real is exactly as above.')"
   ]
  },
  {
   "cell_type": "markdown",
   "id": "a0ae64bb",
   "metadata": {},
   "source": [
    "#### Defining parameters and training"
   ]
  },
  {
   "cell_type": "code",
   "execution_count": 13,
   "id": "3770021f",
   "metadata": {},
   "outputs": [
    {
     "name": "stderr",
     "output_type": "stream",
     "text": [
      "/Users/janrathfelder/opt/anaconda3/envs/py37/lib/python3.7/site-packages/ipykernel_launcher.py:10: FutureWarning: The 'freq' argument in Timestamp is deprecated and will be removed in a future version.\n",
      "  # Remove the CWD from sys.path while we load stuff.\n"
     ]
    }
   ],
   "source": [
    "# define the parameters of the dataset:\n",
    "\n",
    "custom_ds_metadata = {\n",
    "    'num_series': len(target), # because we have only one target ts\n",
    "    'num_steps': df.shape[0], # defines the length of the ts\n",
    "    'prediction_length': 250, # number of steps we want to predict\n",
    "    'freq': '10min', # data is given in 10 min steps\n",
    "    'start': [\n",
    "        pd.Timestamp(df.index[0], freq='10m')\n",
    "        for _ in range(df.shape[0])\n",
    "    ]\n",
    "}"
   ]
  },
  {
   "cell_type": "code",
   "execution_count": 14,
   "id": "6461cb92",
   "metadata": {},
   "outputs": [],
   "source": [
    "# Define fields used\n",
    "# Here we define a dynamic_real value on top of the target\n",
    "train_ds = ListDataset(\n",
    "    [\n",
    "        {\n",
    "            FieldName.TARGET: target,\n",
    "            FieldName.START: start,\n",
    "            FieldName.FEAT_DYNAMIC_REAL: fdr\n",
    "            #FieldName.FEAT_STATIC_CAT: [fsc]\n",
    "        }\n",
    "        for (target, start, fdr) in zip(\n",
    "            target[:, :-custom_ds_metadata['prediction_length']],\n",
    "            custom_ds_metadata['start'],\n",
    "            feat_dynamic_real[:,:, :-custom_ds_metadata['prediction_length']]\n",
    "            #feat_static_cat\n",
    "        )\n",
    "    ],\n",
    "    freq=custom_ds_metadata['freq']\n",
    ")\n",
    "\n",
    "# test\n",
    "test_ds = ListDataset(\n",
    "    [\n",
    "        {\n",
    "            FieldName.TARGET: target,\n",
    "            FieldName.START: start,\n",
    "            FieldName.FEAT_DYNAMIC_REAL: fdr\n",
    "            #FieldName.FEAT_STATIC_CAT: [fsc]\n",
    "        }\n",
    "        for (target, start, fdr) in zip(\n",
    "            target,\n",
    "            custom_ds_metadata['start'],\n",
    "            feat_dynamic_real\n",
    "            #feat_static_cat\n",
    "            )\n",
    "    ],\n",
    "    freq=custom_ds_metadata['freq']\n",
    ")"
   ]
  },
  {
   "cell_type": "code",
   "execution_count": 15,
   "id": "27258bd4",
   "metadata": {},
   "outputs": [
    {
     "name": "stdout",
     "output_type": "stream",
     "text": [
      "9 9\n"
     ]
    }
   ],
   "source": [
    "# check length of train and test\n",
    "# to see if we have 9 ts:\n",
    "\n",
    "print(len(train_ds),\n",
    "      len(test_ds))"
   ]
  },
  {
   "cell_type": "code",
   "execution_count": 16,
   "id": "c64ff97d",
   "metadata": {},
   "outputs": [
    {
     "name": "stdout",
     "output_type": "stream",
     "text": [
      "dict_keys(['target', 'start', 'feat_dynamic_real', 'source']) dict_keys(['target', 'start', 'feat_dynamic_real', 'source'])\n"
     ]
    },
    {
     "name": "stderr",
     "output_type": "stream",
     "text": [
      "/Users/janrathfelder/opt/anaconda3/envs/py37/lib/python3.7/site-packages/gluonts/dataset/common.py:323: FutureWarning: The 'freq' argument in Timestamp is deprecated and will be removed in a future version.\n",
      "  timestamp = pd.Timestamp(string, freq=freq)\n",
      "/Users/janrathfelder/opt/anaconda3/envs/py37/lib/python3.7/site-packages/gluonts/dataset/common.py:326: FutureWarning: Timestamp.freq is deprecated and will be removed in a future version\n",
      "  if isinstance(timestamp.freq, Tick):\n",
      "/Users/janrathfelder/opt/anaconda3/envs/py37/lib/python3.7/site-packages/gluonts/dataset/common.py:328: FutureWarning: Timestamp.freq is deprecated and will be removed in a future version\n",
      "  timestamp.floor(timestamp.freq), timestamp.freq\n",
      "/Users/janrathfelder/opt/anaconda3/envs/py37/lib/python3.7/site-packages/gluonts/dataset/common.py:328: FutureWarning: The 'freq' argument in Timestamp is deprecated and will be removed in a future version.\n",
      "  timestamp.floor(timestamp.freq), timestamp.freq\n"
     ]
    }
   ],
   "source": [
    "# Returning train and test dict:\n",
    "\n",
    "train_entry = next(iter(train_ds))\n",
    "test_entry = next(iter(test_ds))\n",
    "\n",
    "print(test_entry.keys(), train_entry.keys())"
   ]
  },
  {
   "cell_type": "code",
   "execution_count": 17,
   "id": "a08ba605",
   "metadata": {},
   "outputs": [
    {
     "name": "stderr",
     "output_type": "stream",
     "text": [
      "/Users/janrathfelder/opt/anaconda3/envs/py37/lib/python3.7/site-packages/gluonts/dataset/util.py:128: FutureWarning: Timestamp.freqstr is deprecated and will be removed in a future version.\n",
      "  freq = start.freqstr\n"
     ]
    },
    {
     "data": {
      "image/png": "[encoded data removed]",
      "text/plain": [
       "<Figure size 720x504 with 2 Axes>"
      ]
     },
     "metadata": {
      "needs_background": "light"
     },
     "output_type": "display_data"
    }
   ],
   "source": [
    "# plot train and testing data:\n",
    "\n",
    "test_series = to_pandas(test_entry)\n",
    "train_series = to_pandas(train_entry)\n",
    "\n",
    "fig, ax = plt.subplots(2, 1, sharex=True, sharey=True, figsize=(10, 7))\n",
    "\n",
    "train_series.plot(ax=ax[0])\n",
    "ax[0].grid(which=\"both\")\n",
    "ax[0].legend([\"train series\"], loc=\"upper left\")\n",
    "\n",
    "test_series.plot(ax=ax[1])\n",
    "ax[1].axvline(train_series.index[-1], color='r') # end of train dataset\n",
    "ax[1].grid(which=\"both\")\n",
    "ax[1].legend([\"test series\", \"end of train series\"], loc=\"upper left\")\n",
    "\n",
    "plt.show()"
   ]
  },
  {
   "cell_type": "code",
   "execution_count": null,
   "id": "0d988097",
   "metadata": {},
   "outputs": [
    {
     "data": {
      "application/vnd.jupyter.widget-view+json": {
       "model_id": "bec9bcbe11584f1f9f27d581a5ee6cdb",
       "version_major": 2,
       "version_minor": 0
      },
      "text/plain": [
       "  0%|          | 0/63 [00:00<?, ?it/s]"
      ]
     },
     "metadata": {},
     "output_type": "display_data"
    },
    {
     "name": "stderr",
     "output_type": "stream",
     "text": [
      "/Users/janrathfelder/opt/anaconda3/envs/py37/lib/python3.7/site-packages/gluonts/transform/split.py:36: FutureWarning: Timestamp.freq is deprecated and will be removed in a future version\n",
      "  return _shift_timestamp_helper(ts, ts.freq, offset)\n",
      "/Users/janrathfelder/opt/anaconda3/envs/py37/lib/python3.7/site-packages/gluonts/transform/feature.py:352: FutureWarning: Timestamp.freq is deprecated and will be removed in a future version\n",
      "  self._min_time_point, self._max_time_point, freq=start.freq\n"
     ]
    },
    {
     "data": {
      "application/vnd.jupyter.widget-view+json": {
       "model_id": "d7cf03a6c11d46089122d31992567d63",
       "version_major": 2,
       "version_minor": 0
      },
      "text/plain": [
       "  0%|          | 0/63 [00:00<?, ?it/s]"
      ]
     },
     "metadata": {},
     "output_type": "display_data"
    },
    {
     "data": {
      "application/vnd.jupyter.widget-view+json": {
       "model_id": "a785ecdb4e3c407bae7aaecd2af73180",
       "version_major": 2,
       "version_minor": 0
      },
      "text/plain": [
       "  0%|          | 0/63 [00:00<?, ?it/s]"
      ]
     },
     "metadata": {},
     "output_type": "display_data"
    },
    {
     "data": {
      "application/vnd.jupyter.widget-view+json": {
       "model_id": "7c62c759d8424d6698b146a2d022179a",
       "version_major": 2,
       "version_minor": 0
      },
      "text/plain": [
       "  0%|          | 0/63 [00:00<?, ?it/s]"
      ]
     },
     "metadata": {},
     "output_type": "display_data"
    },
    {
     "data": {
      "application/vnd.jupyter.widget-view+json": {
       "model_id": "a8536dba2bbb46f8a43821e552b517fb",
       "version_major": 2,
       "version_minor": 0
      },
      "text/plain": [
       "  0%|          | 0/63 [00:00<?, ?it/s]"
      ]
     },
     "metadata": {},
     "output_type": "display_data"
    }
   ],
   "source": [
    "device = torch.device(\"cuda\" if torch.cuda.is_available() else \"cpu\")\n",
    "\n",
    "estimator = DeepAREstimator(freq=custom_ds_metadata['freq'],\n",
    "                            prediction_length=custom_ds_metadata['prediction_length'],\n",
    "                            input_size=59,\n",
    "                            num_layers=2,\n",
    "                            num_cells=40,\n",
    "                            use_feat_dynamic_real=True,\n",
    "                            context_length=5*custom_ds_metadata['prediction_length'],\n",
    "                            trainer=Trainer(epochs=5,\n",
    "                                            learning_rate=1e-3,\n",
    "                                            num_batches_per_epoch=64,\n",
    "                                            batch_size=128,\n",
    "                                            device=device))\n",
    "\n",
    "predictor = estimator.train(training_data=train_ds, \n",
    "                            num_workers=0\n",
    "                           )"
   ]
  },
  {
   "cell_type": "code",
   "execution_count": null,
   "id": "0c966a02",
   "metadata": {},
   "outputs": [],
   "source": [
    "# Return forcast and compare with true values:\n",
    "\n",
    "forecast_it, ts_it = make_evaluation_predictions(\n",
    "    dataset=test_ds,  # test dataset\n",
    "    predictor=predictor,  # predictor\n",
    "    num_samples=100,  # number of sample paths we want for evaluation\n",
    ")\n",
    "\n",
    "forecasts = list(forecast_it)\n",
    "tss = list(ts_it)\n",
    "\n",
    "evaluator = Evaluator()\n",
    "agg_metrics, item_metrics = evaluator(iter(tss), iter(forecasts), num_series=len(test_ds))"
   ]
  },
  {
   "cell_type": "code",
   "execution_count": null,
   "id": "468fc28d",
   "metadata": {
    "scrolled": false
   },
   "outputs": [],
   "source": [
    "def plot_prob_forecasts(ts_entry, forecast_entry):\n",
    "    plot_length = 4*custom_ds_metadata['prediction_length']\n",
    "    prediction_intervals = (10.0, 90.0)\n",
    "    legend = [\"observations\", \"median prediction\"] + [f\"{k}% prediction interval\" for k in prediction_intervals][::-1]\n",
    "\n",
    "    fig, ax = plt.subplots(1, 1, figsize=(10, 7))\n",
    "    ts_entry[-plot_length:].plot(ax=ax)  # plot the time series\n",
    "    forecast_entry.plot(prediction_intervals=prediction_intervals, color='g')\n",
    "    plt.grid(which=\"both\")\n",
    "    plt.legend(legend, loc=\"upper left\")\n",
    "    plt.show()\n",
    "\n",
    "for i in range(len(target)):    \n",
    "    forecast_entry = forecasts[i]\n",
    "    ts_entry = tss[i]\n",
    "    plot_prob_forecasts(ts_entry, forecast_entry) "
   ]
  },
  {
   "cell_type": "code",
   "execution_count": null,
   "id": "09b3f526",
   "metadata": {},
   "outputs": [],
   "source": [
    "# Print errors:\n",
    "\n",
    "print(json.dumps(agg_metrics, indent=4))"
   ]
  }
 ],
 "metadata": {
  "kernelspec": {
   "display_name": "Python 3 (ipykernel)",
   "language": "python",
   "name": "python3"
  },
  "language_info": {
   "codemirror_mode": {
    "name": "ipython",
    "version": 3
   },
   "file_extension": ".py",
   "mimetype": "text/x-python",
   "name": "python",
   "nbconvert_exporter": "python",
   "pygments_lexer": "ipython3",
   "version": "3.7.11"
  }
 },
 "nbformat": 4,
 "nbformat_minor": 5
}
